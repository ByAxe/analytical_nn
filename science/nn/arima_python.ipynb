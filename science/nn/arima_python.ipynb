{
 "cells": [
  {
   "cell_type": "code",
   "execution_count": null,
   "metadata": {
    "scrolled": true
   },
   "outputs": [],
   "source": [
    "from pandas import read_csv\n",
    "from pandas import datetime\n",
    "from matplotlib import pyplot\n",
    "from statsmodels.tsa.arima_model import ARIMA\n",
    "from sklearn.metrics import mean_squared_error\n",
    "from statsmodels.tsa.statespace.sarimax import SARIMAX\n",
    "import psycopg2\n",
    "from psycopg2.extras import DictCursor\n",
    "from science.collector.service.poloniex_public_service import PoloniexPublicService\n",
    "from math import sqrt\n",
    "\n",
    "import warnings\n",
    "warnings.filterwarnings('ignore')\n",
    "\n",
    "%matplotlib inline"
   ]
  },
  {
   "cell_type": "code",
   "execution_count": null,
   "metadata": {},
   "outputs": [],
   "source": [
    "connection = psycopg2.connect(\"dbname=deep_crypto user=postgres password=postgres host=localhost port=5432\")\n",
    "cursor = connection.cursor(cursor_factory=psycopg2.extras.DictCursor)\n",
    "\n",
    "poloniexPublicService = PoloniexPublicService(connection, cursor)\n",
    "\n",
    "poloniexPublicService.saveChartDataToCSV(main_currency='BTC', secondary_currency='ETH', start='1509483600',\n",
    "                                         end='1514754000', period='300')"
   ]
  },
  {
   "cell_type": "code",
   "execution_count": null,
   "metadata": {},
   "outputs": [],
   "source": [
    "dataset = read_csv('dataset.csv', index_col=['date'], parse_dates=['date'], dayfirst=True,\n",
    "                   usecols=['date', 'weighted_average'])"
   ]
  },
  {
   "cell_type": "code",
   "execution_count": null,
   "metadata": {},
   "outputs": [],
   "source": [
    "len(dataset)"
   ]
  },
  {
   "cell_type": "code",
   "execution_count": null,
   "metadata": {},
   "outputs": [],
   "source": [
    "def split_dataset(series, percentage):\n",
    "    X = series.values\n",
    "    size = int(len(X) * percentage)\n",
    "    train, test = X[0:size], X[size:len(X)]\n",
    "    history = [x for x in train]\n",
    "    return [history, test]"
   ]
  },
  {
   "cell_type": "code",
   "execution_count": null,
   "metadata": {},
   "outputs": [],
   "source": [
    "train, test = split_dataset(dataset, 0.98)"
   ]
  },
  {
   "cell_type": "code",
   "execution_count": null,
   "metadata": {},
   "outputs": [],
   "source": [
    "def evaluate_model(params, dataset, print_period):\n",
    "    [P, D, Q, s] = params\n",
    "    [train, test] = dataset\n",
    "    \n",
    "    predictions = list()\n",
    "\n",
    "    for t in range(len(test)):\n",
    "        model = SARIMAX(train, seasonal_order=(P, D, Q, s))\n",
    "        model_fit = model.fit(disp=0, maxiter=1000, method='nm')\n",
    "        \n",
    "        output = model_fit.forecast()\n",
    "        yhat = output[0]\n",
    "        predictions.append(yhat)\n",
    "        \n",
    "        obs = test[t]\n",
    "        train.append(obs)\n",
    "        \n",
    "        if (t // print_period) == 0: \n",
    "            print('predicted=%f, expected=%f' % (yhat, obs))\n",
    "    \n",
    "    error = mean_squared_error(test, predictions)\n",
    "    rmse = sqrt(error)"
   ]
  },
  {
   "cell_type": "code",
   "execution_count": null,
   "metadata": {
    "scrolled": true
   },
   "outputs": [],
   "source": [
    "error = evaluate_model([5, 1, 0, 2], [train, test], 1)"
   ]
  },
  {
   "cell_type": "code",
   "execution_count": null,
   "metadata": {},
   "outputs": [],
   "source": [
    "print(model_fit.mle_retvals)\n",
    "\n",
    "error = mean_squared_error(test, predictions)\n",
    "print('Test MSE: %.3f' % error)\n",
    "# plot\n",
    "pyplot.plot(test)\n",
    "pyplot.plot(predictions, color='red')\n",
    "pyplot.show()"
   ]
  },
  {
   "cell_type": "code",
   "execution_count": null,
   "metadata": {},
   "outputs": [],
   "source": []
  }
 ],
 "metadata": {
  "kernelspec": {
   "display_name": "Python 3",
   "language": "python",
   "name": "python3"
  },
  "language_info": {
   "codemirror_mode": {
    "name": "ipython",
    "version": 3
   },
   "file_extension": ".py",
   "mimetype": "text/x-python",
   "name": "python",
   "nbconvert_exporter": "python",
   "pygments_lexer": "ipython3",
   "version": "3.6.4"
  }
 },
 "nbformat": 4,
 "nbformat_minor": 1
}
