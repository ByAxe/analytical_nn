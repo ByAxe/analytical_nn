{
 "cells": [
  {
   "cell_type": "code",
   "execution_count": 1,
   "metadata": {},
   "outputs": [
    {
     "name": "stderr",
     "output_type": "stream",
     "text": [
      "/usr/local/lib/python3.6/site-packages/rpy2/rinterface/__init__.py:145: RRuntimeWarning: Во время загрузки - \n",
      "  warnings.warn(x, RRuntimeWarning)\n",
      "/usr/local/lib/python3.6/site-packages/rpy2/rinterface/__init__.py:145: RRuntimeWarning: Предупреждения:\n",
      "\n",
      "  warnings.warn(x, RRuntimeWarning)\n",
      "/usr/local/lib/python3.6/site-packages/rpy2/rinterface/__init__.py:145: RRuntimeWarning: 1: Setting LC_COLLATE failed, using \"C\" \n",
      "\n",
      "  warnings.warn(x, RRuntimeWarning)\n",
      "/usr/local/lib/python3.6/site-packages/rpy2/rinterface/__init__.py:145: RRuntimeWarning: 2: Setting LC_TIME failed, using \"C\" \n",
      "\n",
      "  warnings.warn(x, RRuntimeWarning)\n",
      "/usr/local/lib/python3.6/site-packages/rpy2/rinterface/__init__.py:145: RRuntimeWarning: 3: Setting LC_MESSAGES failed, using \"C\" \n",
      "\n",
      "  warnings.warn(x, RRuntimeWarning)\n",
      "/usr/local/lib/python3.6/site-packages/rpy2/rinterface/__init__.py:145: RRuntimeWarning: 4: Setting LC_MONETARY failed, using \"C\" \n",
      "\n",
      "  warnings.warn(x, RRuntimeWarning)\n"
     ]
    }
   ],
   "source": [
    "%load_ext rpy2.ipython\n",
    "%matplotlib inline"
   ]
  },
  {
   "cell_type": "code",
   "execution_count": 2,
   "metadata": {},
   "outputs": [
    {
     "name": "stderr",
     "output_type": "stream",
     "text": [
      "/usr/local/lib/python3.6/site-packages/statsmodels/compat/pandas.py:56: FutureWarning: The pandas.core.datetools module is deprecated and will be removed in a future version. Please use the pandas.tseries module instead.\n",
      "  from pandas.core import datetools\n"
     ]
    }
   ],
   "source": [
    "from cmath import log\n",
    "\n",
    "import psycopg2\n",
    "from pandas import read_csv, DataFrame\n",
    "from psycopg2.extras import DictCursor\n",
    "from rpy2.robjects import pandas2ri, R, vectors\n",
    "from rpy2.robjects.packages import importr\n",
    "from rpy2.robjects.packages import importr\n",
    "import statsmodels.api as sm\n",
    "from pandas.core import datetools\n",
    "import matplotlib.pyplot as plt\n",
    "\n",
    "from science.collector.service.poloniex_public_service import PoloniexPublicService\n",
    "\n",
    "\n",
    "pandas2ri.activate()"
   ]
  },
  {
   "cell_type": "code",
   "execution_count": 3,
   "metadata": {
    "scrolled": true
   },
   "outputs": [],
   "source": [
    "connection = psycopg2.connect(\"dbname=deep_crypto user=postgres password=postgres host=localhost port=5432\")\n",
    "cursor = connection.cursor(cursor_factory=psycopg2.extras.DictCursor)\n",
    "\n",
    "poloniexPublicService = PoloniexPublicService(connection, cursor)\n",
    "\n",
    "poloniexPublicService.saveChartDataToCSV(main_currency='BTC', secondary_currency='ETH', start='1509483600',\n",
    "                                         end='1514754000', period='300')"
   ]
  },
  {
   "cell_type": "code",
   "execution_count": 4,
   "metadata": {
    "scrolled": true
   },
   "outputs": [
    {
     "data": {
      "text/html": [
       "<div>\n",
       "<style scoped>\n",
       "    .dataframe tbody tr th:only-of-type {\n",
       "        vertical-align: middle;\n",
       "    }\n",
       "\n",
       "    .dataframe tbody tr th {\n",
       "        vertical-align: top;\n",
       "    }\n",
       "\n",
       "    .dataframe thead th {\n",
       "        text-align: right;\n",
       "    }\n",
       "</style>\n",
       "<table border=\"1\" class=\"dataframe\">\n",
       "  <thead>\n",
       "    <tr style=\"text-align: right;\">\n",
       "      <th></th>\n",
       "      <th>weighted_average</th>\n",
       "    </tr>\n",
       "    <tr>\n",
       "      <th>date</th>\n",
       "      <th></th>\n",
       "    </tr>\n",
       "  </thead>\n",
       "  <tbody>\n",
       "    <tr>\n",
       "      <th>2017-11-02 10:00:00</th>\n",
       "      <td>0.040149</td>\n",
       "    </tr>\n",
       "    <tr>\n",
       "      <th>2017-11-01 08:40:00</th>\n",
       "      <td>0.047356</td>\n",
       "    </tr>\n",
       "    <tr>\n",
       "      <th>2017-11-01 02:20:00</th>\n",
       "      <td>0.047448</td>\n",
       "    </tr>\n",
       "    <tr>\n",
       "      <th>2017-11-01 02:25:00</th>\n",
       "      <td>0.047411</td>\n",
       "    </tr>\n",
       "    <tr>\n",
       "      <th>2017-11-01 02:30:00</th>\n",
       "      <td>0.047349</td>\n",
       "    </tr>\n",
       "    <tr>\n",
       "      <th>2017-11-01 02:35:00</th>\n",
       "      <td>0.047323</td>\n",
       "    </tr>\n",
       "    <tr>\n",
       "      <th>2017-11-01 02:40:00</th>\n",
       "      <td>0.047213</td>\n",
       "    </tr>\n",
       "    <tr>\n",
       "      <th>2017-11-01 02:45:00</th>\n",
       "      <td>0.047195</td>\n",
       "    </tr>\n",
       "    <tr>\n",
       "      <th>2017-11-01 02:50:00</th>\n",
       "      <td>0.047010</td>\n",
       "    </tr>\n",
       "    <tr>\n",
       "      <th>2017-11-01 02:55:00</th>\n",
       "      <td>0.046985</td>\n",
       "    </tr>\n",
       "    <tr>\n",
       "      <th>2017-11-01 03:00:00</th>\n",
       "      <td>0.047233</td>\n",
       "    </tr>\n",
       "    <tr>\n",
       "      <th>2017-11-01 03:05:00</th>\n",
       "      <td>0.047362</td>\n",
       "    </tr>\n",
       "    <tr>\n",
       "      <th>2017-11-01 03:10:00</th>\n",
       "      <td>0.047397</td>\n",
       "    </tr>\n",
       "    <tr>\n",
       "      <th>2017-11-01 03:15:00</th>\n",
       "      <td>0.047492</td>\n",
       "    </tr>\n",
       "    <tr>\n",
       "      <th>2017-11-01 03:20:00</th>\n",
       "      <td>0.047526</td>\n",
       "    </tr>\n",
       "    <tr>\n",
       "      <th>2017-11-01 03:25:00</th>\n",
       "      <td>0.047442</td>\n",
       "    </tr>\n",
       "    <tr>\n",
       "      <th>2017-11-01 03:30:00</th>\n",
       "      <td>0.047504</td>\n",
       "    </tr>\n",
       "    <tr>\n",
       "      <th>2017-11-01 03:35:00</th>\n",
       "      <td>0.047678</td>\n",
       "    </tr>\n",
       "    <tr>\n",
       "      <th>2017-11-01 03:40:00</th>\n",
       "      <td>0.047455</td>\n",
       "    </tr>\n",
       "    <tr>\n",
       "      <th>2017-11-01 03:45:00</th>\n",
       "      <td>0.047468</td>\n",
       "    </tr>\n",
       "    <tr>\n",
       "      <th>2017-11-01 03:50:00</th>\n",
       "      <td>0.047406</td>\n",
       "    </tr>\n",
       "    <tr>\n",
       "      <th>2017-11-01 03:55:00</th>\n",
       "      <td>0.047381</td>\n",
       "    </tr>\n",
       "    <tr>\n",
       "      <th>2017-11-01 04:00:00</th>\n",
       "      <td>0.047325</td>\n",
       "    </tr>\n",
       "    <tr>\n",
       "      <th>2017-11-01 04:05:00</th>\n",
       "      <td>0.047329</td>\n",
       "    </tr>\n",
       "    <tr>\n",
       "      <th>2017-11-01 04:10:00</th>\n",
       "      <td>0.047330</td>\n",
       "    </tr>\n",
       "    <tr>\n",
       "      <th>2017-11-01 04:15:00</th>\n",
       "      <td>0.047318</td>\n",
       "    </tr>\n",
       "    <tr>\n",
       "      <th>2017-11-01 04:20:00</th>\n",
       "      <td>0.047184</td>\n",
       "    </tr>\n",
       "    <tr>\n",
       "      <th>2017-11-01 04:25:00</th>\n",
       "      <td>0.047244</td>\n",
       "    </tr>\n",
       "    <tr>\n",
       "      <th>2017-11-01 04:30:00</th>\n",
       "      <td>0.047279</td>\n",
       "    </tr>\n",
       "    <tr>\n",
       "      <th>2017-11-01 04:35:00</th>\n",
       "      <td>0.047238</td>\n",
       "    </tr>\n",
       "    <tr>\n",
       "      <th>...</th>\n",
       "      <td>...</td>\n",
       "    </tr>\n",
       "    <tr>\n",
       "      <th>2017-11-01 12:30:00</th>\n",
       "      <td>0.046338</td>\n",
       "    </tr>\n",
       "    <tr>\n",
       "      <th>2017-11-01 12:35:00</th>\n",
       "      <td>0.046280</td>\n",
       "    </tr>\n",
       "    <tr>\n",
       "      <th>2017-11-01 12:40:00</th>\n",
       "      <td>0.046233</td>\n",
       "    </tr>\n",
       "    <tr>\n",
       "      <th>2017-11-01 12:45:00</th>\n",
       "      <td>0.046168</td>\n",
       "    </tr>\n",
       "    <tr>\n",
       "      <th>2017-11-01 12:50:00</th>\n",
       "      <td>0.046111</td>\n",
       "    </tr>\n",
       "    <tr>\n",
       "      <th>2017-11-01 12:55:00</th>\n",
       "      <td>0.045970</td>\n",
       "    </tr>\n",
       "    <tr>\n",
       "      <th>2017-11-01 13:00:00</th>\n",
       "      <td>0.046043</td>\n",
       "    </tr>\n",
       "    <tr>\n",
       "      <th>2017-11-01 13:05:00</th>\n",
       "      <td>0.046138</td>\n",
       "    </tr>\n",
       "    <tr>\n",
       "      <th>2017-11-01 13:10:00</th>\n",
       "      <td>0.046169</td>\n",
       "    </tr>\n",
       "    <tr>\n",
       "      <th>2017-11-01 13:15:00</th>\n",
       "      <td>0.046112</td>\n",
       "    </tr>\n",
       "    <tr>\n",
       "      <th>2017-11-01 13:20:00</th>\n",
       "      <td>0.046055</td>\n",
       "    </tr>\n",
       "    <tr>\n",
       "      <th>2017-11-01 13:25:00</th>\n",
       "      <td>0.045828</td>\n",
       "    </tr>\n",
       "    <tr>\n",
       "      <th>2017-11-01 13:30:00</th>\n",
       "      <td>0.045594</td>\n",
       "    </tr>\n",
       "    <tr>\n",
       "      <th>2017-11-01 13:35:00</th>\n",
       "      <td>0.045471</td>\n",
       "    </tr>\n",
       "    <tr>\n",
       "      <th>2017-11-01 13:40:00</th>\n",
       "      <td>0.045298</td>\n",
       "    </tr>\n",
       "    <tr>\n",
       "      <th>2017-11-01 13:45:00</th>\n",
       "      <td>0.044972</td>\n",
       "    </tr>\n",
       "    <tr>\n",
       "      <th>2017-11-01 13:50:00</th>\n",
       "      <td>0.044842</td>\n",
       "    </tr>\n",
       "    <tr>\n",
       "      <th>2017-11-01 13:55:00</th>\n",
       "      <td>0.045080</td>\n",
       "    </tr>\n",
       "    <tr>\n",
       "      <th>2017-11-01 14:00:00</th>\n",
       "      <td>0.045062</td>\n",
       "    </tr>\n",
       "    <tr>\n",
       "      <th>2017-11-01 14:05:00</th>\n",
       "      <td>0.045263</td>\n",
       "    </tr>\n",
       "    <tr>\n",
       "      <th>2017-11-01 14:10:00</th>\n",
       "      <td>0.045307</td>\n",
       "    </tr>\n",
       "    <tr>\n",
       "      <th>2017-11-01 14:15:00</th>\n",
       "      <td>0.045378</td>\n",
       "    </tr>\n",
       "    <tr>\n",
       "      <th>2017-11-01 14:20:00</th>\n",
       "      <td>0.045372</td>\n",
       "    </tr>\n",
       "    <tr>\n",
       "      <th>2017-11-01 14:25:00</th>\n",
       "      <td>0.045321</td>\n",
       "    </tr>\n",
       "    <tr>\n",
       "      <th>2017-11-01 14:30:00</th>\n",
       "      <td>0.045204</td>\n",
       "    </tr>\n",
       "    <tr>\n",
       "      <th>2017-11-01 14:35:00</th>\n",
       "      <td>0.045024</td>\n",
       "    </tr>\n",
       "    <tr>\n",
       "      <th>2017-11-01 14:40:00</th>\n",
       "      <td>0.044926</td>\n",
       "    </tr>\n",
       "    <tr>\n",
       "      <th>2017-11-01 14:45:00</th>\n",
       "      <td>0.044561</td>\n",
       "    </tr>\n",
       "    <tr>\n",
       "      <th>2017-11-01 14:50:00</th>\n",
       "      <td>0.044848</td>\n",
       "    </tr>\n",
       "    <tr>\n",
       "      <th>2017-11-01 14:55:00</th>\n",
       "      <td>0.044984</td>\n",
       "    </tr>\n",
       "  </tbody>\n",
       "</table>\n",
       "<p>17569 rows × 1 columns</p>\n",
       "</div>"
      ],
      "text/plain": [
       "                     weighted_average\n",
       "date                                 \n",
       "2017-11-02 10:00:00          0.040149\n",
       "2017-11-01 08:40:00          0.047356\n",
       "2017-11-01 02:20:00          0.047448\n",
       "2017-11-01 02:25:00          0.047411\n",
       "2017-11-01 02:30:00          0.047349\n",
       "2017-11-01 02:35:00          0.047323\n",
       "2017-11-01 02:40:00          0.047213\n",
       "2017-11-01 02:45:00          0.047195\n",
       "2017-11-01 02:50:00          0.047010\n",
       "2017-11-01 02:55:00          0.046985\n",
       "2017-11-01 03:00:00          0.047233\n",
       "2017-11-01 03:05:00          0.047362\n",
       "2017-11-01 03:10:00          0.047397\n",
       "2017-11-01 03:15:00          0.047492\n",
       "2017-11-01 03:20:00          0.047526\n",
       "2017-11-01 03:25:00          0.047442\n",
       "2017-11-01 03:30:00          0.047504\n",
       "2017-11-01 03:35:00          0.047678\n",
       "2017-11-01 03:40:00          0.047455\n",
       "2017-11-01 03:45:00          0.047468\n",
       "2017-11-01 03:50:00          0.047406\n",
       "2017-11-01 03:55:00          0.047381\n",
       "2017-11-01 04:00:00          0.047325\n",
       "2017-11-01 04:05:00          0.047329\n",
       "2017-11-01 04:10:00          0.047330\n",
       "2017-11-01 04:15:00          0.047318\n",
       "2017-11-01 04:20:00          0.047184\n",
       "2017-11-01 04:25:00          0.047244\n",
       "2017-11-01 04:30:00          0.047279\n",
       "2017-11-01 04:35:00          0.047238\n",
       "...                               ...\n",
       "2017-11-01 12:30:00          0.046338\n",
       "2017-11-01 12:35:00          0.046280\n",
       "2017-11-01 12:40:00          0.046233\n",
       "2017-11-01 12:45:00          0.046168\n",
       "2017-11-01 12:50:00          0.046111\n",
       "2017-11-01 12:55:00          0.045970\n",
       "2017-11-01 13:00:00          0.046043\n",
       "2017-11-01 13:05:00          0.046138\n",
       "2017-11-01 13:10:00          0.046169\n",
       "2017-11-01 13:15:00          0.046112\n",
       "2017-11-01 13:20:00          0.046055\n",
       "2017-11-01 13:25:00          0.045828\n",
       "2017-11-01 13:30:00          0.045594\n",
       "2017-11-01 13:35:00          0.045471\n",
       "2017-11-01 13:40:00          0.045298\n",
       "2017-11-01 13:45:00          0.044972\n",
       "2017-11-01 13:50:00          0.044842\n",
       "2017-11-01 13:55:00          0.045080\n",
       "2017-11-01 14:00:00          0.045062\n",
       "2017-11-01 14:05:00          0.045263\n",
       "2017-11-01 14:10:00          0.045307\n",
       "2017-11-01 14:15:00          0.045378\n",
       "2017-11-01 14:20:00          0.045372\n",
       "2017-11-01 14:25:00          0.045321\n",
       "2017-11-01 14:30:00          0.045204\n",
       "2017-11-01 14:35:00          0.045024\n",
       "2017-11-01 14:40:00          0.044926\n",
       "2017-11-01 14:45:00          0.044561\n",
       "2017-11-01 14:50:00          0.044848\n",
       "2017-11-01 14:55:00          0.044984\n",
       "\n",
       "[17569 rows x 1 columns]"
      ]
     },
     "execution_count": 4,
     "metadata": {},
     "output_type": "execute_result"
    }
   ],
   "source": [
    "dataset = read_csv('dataset.csv', index_col=['date'], parse_dates=['date'], dayfirst=True,\n",
    "                   usecols=['date', 'weighted_average'])\n",
    "\n",
    "dataset"
   ]
  },
  {
   "cell_type": "code",
   "execution_count": 5,
   "metadata": {},
   "outputs": [],
   "source": [
    "#dataset['weighted_average'] = dataset['weighted_average'].apply(lambda w: log(w))"
   ]
  },
  {
   "cell_type": "code",
   "execution_count": 6,
   "metadata": {
    "scrolled": true
   },
   "outputs": [],
   "source": [
    "stats = importr('stats')\n",
    "tseries = importr('tseries')"
   ]
  },
  {
   "cell_type": "code",
   "execution_count": 7,
   "metadata": {},
   "outputs": [],
   "source": [
    "dim = 504"
   ]
  },
  {
   "cell_type": "code",
   "execution_count": 8,
   "metadata": {},
   "outputs": [
    {
     "data": {
      "text/plain": [
       "<matplotlib.axes._subplots.AxesSubplot at 0x104c6b4a8>"
      ]
     },
     "execution_count": 8,
     "metadata": {},
     "output_type": "execute_result"
    },
    {
     "data": {
      "image/png": "[encoded data removed]",
      "text/plain": [
       "<matplotlib.figure.Figure at 0x104c81cf8>"
      ]
     },
     "metadata": {},
     "output_type": "display_data"
    }
   ],
   "source": [
    "diff1lev = dataset.diff(periods=1).dropna()\n",
    "\n",
    "diff1lev.plot(figsize=(18, 6))"
   ]
  },
  {
   "cell_type": "code",
   "execution_count": 9,
   "metadata": {},
   "outputs": [],
   "source": [
    "diff1lev_season = diff1lev.diff(dim).dropna()"
   ]
  },
  {
   "cell_type": "code",
   "execution_count": 10,
   "metadata": {},
   "outputs": [],
   "source": [
    "r_df = pandas2ri.py2ri(DataFrame(diff1lev_season))\n",
    "y = stats.ts(r_df)\n",
    "ad = tseries.adf_test(y, alternative=\"stationary\", k=dim)\n",
    "a = ad.names[:5]"
   ]
  },
  {
   "cell_type": "code",
   "execution_count": 11,
   "metadata": {},
   "outputs": [
    {
     "data": {
      "text/plain": [
       "{'alternative': 'stationary',\n",
       " 'method': 'Augmented Dickey-Fuller Test',\n",
       " 'p.value': 0.01,\n",
       " 'parameter': 504.0,\n",
       " 'statistic': -9.65260432872939}"
      ]
     },
     "execution_count": 11,
     "metadata": {},
     "output_type": "execute_result"
    }
   ],
   "source": [
    "{ad.names[i]:ad[i][0] for i in range(len(a))}"
   ]
  },
  {
   "cell_type": "code",
   "execution_count": 12,
   "metadata": {},
   "outputs": [
    {
     "data": {
      "image/png": "[encoded data removed]",
      "text/plain": [
       "<matplotlib.figure.Figure at 0x10bb2a7b8>"
      ]
     },
     "metadata": {},
     "output_type": "display_data"
    }
   ],
   "source": [
    "fig = plt.figure(figsize=(18, 8))\n",
    "ax1 = fig.add_subplot(211)\n",
    "fig = sm.graphics.tsa.plot_acf(diff1lev_season.values.squeeze(), lags=150, ax=ax1)\n",
    "ax2 = fig.add_subplot(212)\n",
    "fig = sm.graphics.tsa.plot_pacf(diff1lev_season, lags=150, ax=ax2)"
   ]
  },
  {
   "cell_type": "code",
   "execution_count": 13,
   "metadata": {},
   "outputs": [],
   "source": [
    "r_df = pandas2ri.py2ri(DataFrame(diff1lev_season))\n",
    "y = stats.ts(r_df)"
   ]
  },
  {
   "cell_type": "code",
   "execution_count": 14,
   "metadata": {},
   "outputs": [],
   "source": [
    "order = vectors.IntVector((4,1,13))"
   ]
  },
  {
   "cell_type": "code",
   "execution_count": null,
   "metadata": {},
   "outputs": [],
   "source": [
    "season = vectors.ListVector({'order': vectors.IntVector((0,1,0)), 'period' : dim})"
   ]
  },
  {
   "cell_type": "code",
   "execution_count": null,
   "metadata": {},
   "outputs": [],
   "source": [
    "model = stats.arima(y, order = order, seasonal=season)"
   ]
  },
  {
   "cell_type": "code",
   "execution_count": null,
   "metadata": {},
   "outputs": [],
   "source": [
    "%Rpush model\n",
    "%R tsdiag(model, 100)"
   ]
  },
  {
   "cell_type": "code",
   "execution_count": null,
   "metadata": {},
   "outputs": [],
   "source": []
  }
 ],
 "metadata": {
  "kernelspec": {
   "display_name": "Python 3",
   "language": "python",
   "name": "python3"
  },
  "language_info": {
   "codemirror_mode": {
    "name": "ipython",
    "version": 3
   },
   "file_extension": ".py",
   "mimetype": "text/x-python",
   "name": "python",
   "nbconvert_exporter": "python",
   "pygments_lexer": "ipython3",
   "version": "3.6.4"
  }
 },
 "nbformat": 4,
 "nbformat_minor": 1
}
